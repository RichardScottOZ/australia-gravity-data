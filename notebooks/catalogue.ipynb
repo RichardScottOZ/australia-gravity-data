{
 "cells": [
  {
   "cell_type": "markdown",
   "metadata": {},
   "source": [
    "# Build a full catalogue of datasets\n",
    "\n",
    "While there is an [official catalogue of all surveys](https://ecat.ga.gov.au/geonetwork/srv/eng/catalog.search#/metadata/124049), \n",
    "there is no way to download all files in one go. \n",
    "I had to manually download the metadata records (ID, title, file location) for the surveys in batches of 100 (the maximum the website permitted). This lead to 16 CSV files with the information I need.  \n",
    "\n",
    "This notebook builds a unified catalogue of survey IDs, titles, and download links. It will also query the server and try to figure out the disk space required for the surveys."
   ]
  },
  {
   "cell_type": "code",
   "execution_count": 15,
   "metadata": {},
   "outputs": [],
   "source": [
    "import glob\n",
    "import pandas as pd\n",
    "import requests\n",
    "import matplotlib.pyplot as plt\n",
    "import tqdm"
   ]
  },
  {
   "cell_type": "markdown",
   "metadata": {},
   "source": [
    "## Combine the metadata records"
   ]
  },
  {
   "cell_type": "code",
   "execution_count": 2,
   "metadata": {},
   "outputs": [
    {
     "name": "stdout",
     "output_type": "stream",
     "text": [
      "Reading file: ../metadata/metadata_records(13).csv\n",
      "Reading file: ../metadata/metadata_records.csv\n",
      "Reading file: ../metadata/metadata_records(12).csv\n",
      "Reading file: ../metadata/metadata_records(15).csv\n",
      "Reading file: ../metadata/metadata_records(4).csv\n",
      "Reading file: ../metadata/metadata_records(14).csv\n",
      "Reading file: ../metadata/metadata_records(1).csv\n",
      "Reading file: ../metadata/metadata_records(11).csv\n",
      "Reading file: ../metadata/metadata_records(16).csv\n",
      "Reading file: ../metadata/metadata_records(5).csv\n",
      "Reading file: ../metadata/metadata_records(9).csv\n",
      "Reading file: ../metadata/metadata_records(8).csv\n",
      "Reading file: ../metadata/metadata_records(3).csv\n",
      "Reading file: ../metadata/metadata_records(7).csv\n",
      "Reading file: ../metadata/metadata_records(6).csv\n",
      "Reading file: ../metadata/metadata_records(2).csv\n",
      "Reading file: ../metadata/metadata_records(10).csv\n",
      "\n",
      "Unique entries in the catalogue: 1631\n"
     ]
    }
   ],
   "source": [
    "tmp = []\n",
    "for fname in glob.glob(\"../metadata/metadata_records*.csv\"):\n",
    "    print(f\"Reading file: {fname}\")\n",
    "    tmp.append(pd.read_csv(fname, header=0, escapechar='\\\\', encoding='utf-8'))\n",
    "catalogue = pd.concat(tmp)\n",
    "print(f\"\\nUnique entries in the catalogue: {catalogue.uuid.unique().size}\")"
   ]
  },
  {
   "cell_type": "code",
   "execution_count": 3,
   "metadata": {},
   "outputs": [
    {
     "data": {
      "text/html": [
       "<div>\n",
       "<style scoped>\n",
       "    .dataframe tbody tr th:only-of-type {\n",
       "        vertical-align: middle;\n",
       "    }\n",
       "\n",
       "    .dataframe tbody tr th {\n",
       "        vertical-align: top;\n",
       "    }\n",
       "\n",
       "    .dataframe thead th {\n",
       "        text-align: right;\n",
       "    }\n",
       "</style>\n",
       "<table border=\"1\" class=\"dataframe\">\n",
       "  <thead>\n",
       "    <tr style=\"text-align: right;\">\n",
       "      <th></th>\n",
       "      <th>uuid</th>\n",
       "      <th>eCatId</th>\n",
       "      <th>Title</th>\n",
       "      <th>Abstract</th>\n",
       "      <th>MetadataScope</th>\n",
       "      <th>ParentMetadata</th>\n",
       "      <th>CitationDate</th>\n",
       "      <th>Purpose</th>\n",
       "      <th>Status</th>\n",
       "      <th>Keyword</th>\n",
       "      <th>...</th>\n",
       "      <th>DataStorageLink</th>\n",
       "      <th>Lineage</th>\n",
       "      <th>SourceDescription</th>\n",
       "      <th>ServiceType</th>\n",
       "      <th>CouplingType</th>\n",
       "      <th>OperationName</th>\n",
       "      <th>DistributedComputingPlatform</th>\n",
       "      <th>OperationDescription</th>\n",
       "      <th>DistributionFormat</th>\n",
       "      <th>AssociatedResourcesLink</th>\n",
       "    </tr>\n",
       "  </thead>\n",
       "  <tbody>\n",
       "    <tr>\n",
       "      <th>0</th>\n",
       "      <td>beeb5189-9f86-4961-8621-f162767ec418</td>\n",
       "      <td>124479</td>\n",
       "      <td>Alton Downs Gravity (P196240), gravity point data</td>\n",
       "      <td>Gravity data measures small changes in gravity...</td>\n",
       "      <td>dataset~Alton Downs Gravity (P196240), gravity...</td>\n",
       "      <td>NaN</td>\n",
       "      <td>2018-07-13T00:00:00~creation###2018-07-13T00:0...</td>\n",
       "      <td>NaN</td>\n",
       "      <td>completed</td>\n",
       "      <td>NCI~dataCentre###Earth sciences~discipline###g...</td>\n",
       "      <td>...</td>\n",
       "      <td>/g/data/iv65/Geoscience_Australia_Geophysics_R...</td>\n",
       "      <td>This Alton Downs Gravity (P196240), gravity po...</td>\n",
       "      <td>This Alton Downs Gravity (P196240), gravity po...</td>\n",
       "      <td>NaN</td>\n",
       "      <td>NaN</td>\n",
       "      <td>NaN</td>\n",
       "      <td>NaN</td>\n",
       "      <td>NaN</td>\n",
       "      <td>NaN</td>\n",
       "      <td>NaN</td>\n",
       "    </tr>\n",
       "    <tr>\n",
       "      <th>1</th>\n",
       "      <td>ef420cf3-f391-4d10-bfe6-bdae88b5f7f6</td>\n",
       "      <td>124509</td>\n",
       "      <td>Dalhousie Gravity 1963D9 (P196340), gravity po...</td>\n",
       "      <td>Gravity data measures small changes in gravity...</td>\n",
       "      <td>dataset~Dalhousie Gravity 1963D9 (P196340), gr...</td>\n",
       "      <td>NaN</td>\n",
       "      <td>2018-07-13T00:00:00~creation###2018-07-13T00:0...</td>\n",
       "      <td>NaN</td>\n",
       "      <td>completed</td>\n",
       "      <td>NCI~dataCentre###Earth sciences~discipline###g...</td>\n",
       "      <td>...</td>\n",
       "      <td>/g/data/iv65/Geoscience_Australia_Geophysics_R...</td>\n",
       "      <td>This Dalhousie Gravity 1963D9 (P196340), gravi...</td>\n",
       "      <td>This Dalhousie Gravity 1963D9 (P196340), gravi...</td>\n",
       "      <td>NaN</td>\n",
       "      <td>NaN</td>\n",
       "      <td>NaN</td>\n",
       "      <td>NaN</td>\n",
       "      <td>NaN</td>\n",
       "      <td>NaN</td>\n",
       "      <td>NaN</td>\n",
       "    </tr>\n",
       "    <tr>\n",
       "      <th>2</th>\n",
       "      <td>bb919033-23b3-44c9-9a07-60755a6e7141</td>\n",
       "      <td>124488</td>\n",
       "      <td>Helicopter Gravity (Contract) (P196304), gravi...</td>\n",
       "      <td>Gravity data measures small changes in gravity...</td>\n",
       "      <td>dataset~Helicopter Gravity (Contract) (P196304...</td>\n",
       "      <td>NaN</td>\n",
       "      <td>2018-07-13T00:00:00~creation###2018-07-13T00:0...</td>\n",
       "      <td>NaN</td>\n",
       "      <td>completed</td>\n",
       "      <td>NCI~dataCentre###Earth sciences~discipline###g...</td>\n",
       "      <td>...</td>\n",
       "      <td>/g/data/iv65/Geoscience_Australia_Geophysics_R...</td>\n",
       "      <td>This Helicopter Gravity (Contract) (P196304), ...</td>\n",
       "      <td>This Helicopter Gravity (Contract) (P196304), ...</td>\n",
       "      <td>NaN</td>\n",
       "      <td>NaN</td>\n",
       "      <td>NaN</td>\n",
       "      <td>NaN</td>\n",
       "      <td>NaN</td>\n",
       "      <td>NaN</td>\n",
       "      <td>NaN</td>\n",
       "    </tr>\n",
       "    <tr>\n",
       "      <th>3</th>\n",
       "      <td>0d8c4584-07e0-4fa2-8b7a-699dcb2af3da</td>\n",
       "      <td>124464</td>\n",
       "      <td>Renmark, Pata, Wanbi Gravity (P196163), gravit...</td>\n",
       "      <td>Gravity data measures small changes in gravity...</td>\n",
       "      <td>dataset~Renmark, Pata, Wanbi Gravity (P196163)...</td>\n",
       "      <td>NaN</td>\n",
       "      <td>2018-07-13T00:00:00~creation###2018-07-13T00:0...</td>\n",
       "      <td>NaN</td>\n",
       "      <td>completed</td>\n",
       "      <td>NCI~dataCentre###Earth sciences~discipline###g...</td>\n",
       "      <td>...</td>\n",
       "      <td>/g/data/iv65/Geoscience_Australia_Geophysics_R...</td>\n",
       "      <td>This Renmark, Pata, Wanbi Gravity (P196163), g...</td>\n",
       "      <td>This Renmark, Pata, Wanbi Gravity (P196163), g...</td>\n",
       "      <td>NaN</td>\n",
       "      <td>NaN</td>\n",
       "      <td>NaN</td>\n",
       "      <td>NaN</td>\n",
       "      <td>NaN</td>\n",
       "      <td>NaN</td>\n",
       "      <td>NaN</td>\n",
       "    </tr>\n",
       "    <tr>\n",
       "      <th>4</th>\n",
       "      <td>60bc1b84-59d7-4ecf-a11d-e48f4a6a9ae8</td>\n",
       "      <td>124513</td>\n",
       "      <td>Augusta Moora Gravity (P196346), gravity point...</td>\n",
       "      <td>Gravity data measures small changes in gravity...</td>\n",
       "      <td>dataset~Augusta Moora Gravity (P196346), gravi...</td>\n",
       "      <td>NaN</td>\n",
       "      <td>2018-07-13T00:00:00~creation###2018-07-13T00:0...</td>\n",
       "      <td>NaN</td>\n",
       "      <td>completed</td>\n",
       "      <td>NCI~dataCentre###Earth sciences~discipline###g...</td>\n",
       "      <td>...</td>\n",
       "      <td>/g/data/iv65/Geoscience_Australia_Geophysics_R...</td>\n",
       "      <td>This Augusta Moora Gravity (P196346), gravity ...</td>\n",
       "      <td>This Augusta Moora Gravity (P196346), gravity ...</td>\n",
       "      <td>NaN</td>\n",
       "      <td>NaN</td>\n",
       "      <td>NaN</td>\n",
       "      <td>NaN</td>\n",
       "      <td>NaN</td>\n",
       "      <td>NaN</td>\n",
       "      <td>NaN</td>\n",
       "    </tr>\n",
       "  </tbody>\n",
       "</table>\n",
       "<p>5 rows × 35 columns</p>\n",
       "</div>"
      ],
      "text/plain": [
       "                                   uuid  eCatId  \\\n",
       "0  beeb5189-9f86-4961-8621-f162767ec418  124479   \n",
       "1  ef420cf3-f391-4d10-bfe6-bdae88b5f7f6  124509   \n",
       "2  bb919033-23b3-44c9-9a07-60755a6e7141  124488   \n",
       "3  0d8c4584-07e0-4fa2-8b7a-699dcb2af3da  124464   \n",
       "4  60bc1b84-59d7-4ecf-a11d-e48f4a6a9ae8  124513   \n",
       "\n",
       "                                               Title  \\\n",
       "0  Alton Downs Gravity (P196240), gravity point data   \n",
       "1  Dalhousie Gravity 1963D9 (P196340), gravity po...   \n",
       "2  Helicopter Gravity (Contract) (P196304), gravi...   \n",
       "3  Renmark, Pata, Wanbi Gravity (P196163), gravit...   \n",
       "4  Augusta Moora Gravity (P196346), gravity point...   \n",
       "\n",
       "                                            Abstract  \\\n",
       "0  Gravity data measures small changes in gravity...   \n",
       "1  Gravity data measures small changes in gravity...   \n",
       "2  Gravity data measures small changes in gravity...   \n",
       "3  Gravity data measures small changes in gravity...   \n",
       "4  Gravity data measures small changes in gravity...   \n",
       "\n",
       "                                       MetadataScope  ParentMetadata  \\\n",
       "0  dataset~Alton Downs Gravity (P196240), gravity...             NaN   \n",
       "1  dataset~Dalhousie Gravity 1963D9 (P196340), gr...             NaN   \n",
       "2  dataset~Helicopter Gravity (Contract) (P196304...             NaN   \n",
       "3  dataset~Renmark, Pata, Wanbi Gravity (P196163)...             NaN   \n",
       "4  dataset~Augusta Moora Gravity (P196346), gravi...             NaN   \n",
       "\n",
       "                                        CitationDate  Purpose     Status  \\\n",
       "0  2018-07-13T00:00:00~creation###2018-07-13T00:0...      NaN  completed   \n",
       "1  2018-07-13T00:00:00~creation###2018-07-13T00:0...      NaN  completed   \n",
       "2  2018-07-13T00:00:00~creation###2018-07-13T00:0...      NaN  completed   \n",
       "3  2018-07-13T00:00:00~creation###2018-07-13T00:0...      NaN  completed   \n",
       "4  2018-07-13T00:00:00~creation###2018-07-13T00:0...      NaN  completed   \n",
       "\n",
       "                                             Keyword  ...  \\\n",
       "0  NCI~dataCentre###Earth sciences~discipline###g...  ...   \n",
       "1  NCI~dataCentre###Earth sciences~discipline###g...  ...   \n",
       "2  NCI~dataCentre###Earth sciences~discipline###g...  ...   \n",
       "3  NCI~dataCentre###Earth sciences~discipline###g...  ...   \n",
       "4  NCI~dataCentre###Earth sciences~discipline###g...  ...   \n",
       "\n",
       "                                     DataStorageLink  \\\n",
       "0  /g/data/iv65/Geoscience_Australia_Geophysics_R...   \n",
       "1  /g/data/iv65/Geoscience_Australia_Geophysics_R...   \n",
       "2  /g/data/iv65/Geoscience_Australia_Geophysics_R...   \n",
       "3  /g/data/iv65/Geoscience_Australia_Geophysics_R...   \n",
       "4  /g/data/iv65/Geoscience_Australia_Geophysics_R...   \n",
       "\n",
       "                                             Lineage  \\\n",
       "0  This Alton Downs Gravity (P196240), gravity po...   \n",
       "1  This Dalhousie Gravity 1963D9 (P196340), gravi...   \n",
       "2  This Helicopter Gravity (Contract) (P196304), ...   \n",
       "3  This Renmark, Pata, Wanbi Gravity (P196163), g...   \n",
       "4  This Augusta Moora Gravity (P196346), gravity ...   \n",
       "\n",
       "                                   SourceDescription ServiceType CouplingType  \\\n",
       "0  This Alton Downs Gravity (P196240), gravity po...         NaN          NaN   \n",
       "1  This Dalhousie Gravity 1963D9 (P196340), gravi...         NaN          NaN   \n",
       "2  This Helicopter Gravity (Contract) (P196304), ...         NaN          NaN   \n",
       "3  This Renmark, Pata, Wanbi Gravity (P196163), g...         NaN          NaN   \n",
       "4  This Augusta Moora Gravity (P196346), gravity ...         NaN          NaN   \n",
       "\n",
       "  OperationName DistributedComputingPlatform OperationDescription  \\\n",
       "0           NaN                          NaN                  NaN   \n",
       "1           NaN                          NaN                  NaN   \n",
       "2           NaN                          NaN                  NaN   \n",
       "3           NaN                          NaN                  NaN   \n",
       "4           NaN                          NaN                  NaN   \n",
       "\n",
       "  DistributionFormat  AssociatedResourcesLink  \n",
       "0                NaN                      NaN  \n",
       "1                NaN                      NaN  \n",
       "2                NaN                      NaN  \n",
       "3                NaN                      NaN  \n",
       "4                NaN                      NaN  \n",
       "\n",
       "[5 rows x 35 columns]"
      ]
     },
     "execution_count": 3,
     "metadata": {},
     "output_type": "execute_result"
    }
   ],
   "source": [
    "catalogue.head()"
   ]
  },
  {
   "cell_type": "code",
   "execution_count": 4,
   "metadata": {},
   "outputs": [
    {
     "data": {
      "text/plain": [
       "Index(['uuid', 'eCatId', 'Title', 'Abstract', 'MetadataScope',\n",
       "       'ParentMetadata', 'CitationDate', 'Purpose', 'Status', 'Keyword',\n",
       "       'Keyword-Thesaurus', 'TopicCategory', 'MaintenanceFrequency',\n",
       "       'ResponsibleParty', 'ResourceContact', 'MetadataContact',\n",
       "       'GeographicalExtent', 'SpatialExtentDescription',\n",
       "       'HorizontalSpatialReferenceSystem', 'VerticalExtent', 'VerticalCRS',\n",
       "       'TemporalExtent', 'ResourceLegalConstraints', 'UseLimitations',\n",
       "       'DistributionLink', 'DataStorageLink', 'Lineage', 'SourceDescription',\n",
       "       'ServiceType', 'CouplingType', 'OperationName',\n",
       "       'DistributedComputingPlatform', 'OperationDescription',\n",
       "       'DistributionFormat', 'AssociatedResourcesLink'],\n",
       "      dtype='object')"
      ]
     },
     "execution_count": 4,
     "metadata": {},
     "output_type": "execute_result"
    }
   ],
   "source": [
    "catalogue.columns"
   ]
  },
  {
   "cell_type": "code",
   "execution_count": 5,
   "metadata": {},
   "outputs": [
    {
     "name": "stdout",
     "output_type": "stream",
     "text": [
      "['GDA94 (EPSG:4283)' 'WGS 84 (geocentric) (EPSG:4328)']\n",
      "count                  1631\n",
      "unique                    2\n",
      "top       GDA94 (EPSG:4283)\n",
      "freq                   1624\n",
      "Name: HorizontalSpatialReferenceSystem, dtype: object\n"
     ]
    }
   ],
   "source": [
    "print(catalogue.HorizontalSpatialReferenceSystem.unique())\n",
    "print(catalogue.HorizontalSpatialReferenceSystem.describe())"
   ]
  },
  {
   "cell_type": "code",
   "execution_count": 6,
   "metadata": {},
   "outputs": [
    {
     "name": "stdout",
     "output_type": "stream",
     "text": [
      "[nan]\n",
      "count    0.0\n",
      "mean     NaN\n",
      "std      NaN\n",
      "min      NaN\n",
      "25%      NaN\n",
      "50%      NaN\n",
      "75%      NaN\n",
      "max      NaN\n",
      "Name: VerticalCRS, dtype: float64\n"
     ]
    }
   ],
   "source": [
    "print(catalogue.VerticalCRS.unique())\n",
    "print(catalogue.VerticalCRS.describe())"
   ]
  },
  {
   "cell_type": "markdown",
   "metadata": {},
   "source": [
    "## Get the download size of each survey"
   ]
  },
  {
   "cell_type": "code",
   "execution_count": 8,
   "metadata": {},
   "outputs": [],
   "source": [
    "baseurl = \"http://dapds00.nci.org.au/thredds/fileServer/\""
   ]
  },
  {
   "cell_type": "code",
   "execution_count": 9,
   "metadata": {},
   "outputs": [
    {
     "data": {
      "text/plain": [
       "'http://dapds00.nci.org.au/thredds/fileServer/iv65/Geoscience_Australia_Geophysics_Reference_Data_Collection/ground_gravity/GA/point/P196240/P196240-point-gravity.nc'"
      ]
     },
     "execution_count": 9,
     "metadata": {},
     "output_type": "execute_result"
    }
   ],
   "source": [
    "catalogue[\"DownloadLink\"] = baseurl + catalogue.DataStorageLink.str[8:]\n",
    "catalogue.DownloadLink.values[0]"
   ]
  },
  {
   "cell_type": "code",
   "execution_count": 11,
   "metadata": {},
   "outputs": [
    {
     "name": "stderr",
     "output_type": "stream",
     "text": [
      "100%|██████████| 1631/1631 [20:09<00:00,  1.35it/s] \n"
     ]
    }
   ],
   "source": [
    "nbytes = []\n",
    "for url in tqdm.tqdm(catalogue.DownloadLink.values):\n",
    "    nbytes.append(int(requests.get(url, stream=True).headers[\"Content-length\"]))"
   ]
  },
  {
   "cell_type": "code",
   "execution_count": 13,
   "metadata": {},
   "outputs": [],
   "source": [
    "catalogue[\"SizeBytes\"] = nbytes"
   ]
  },
  {
   "cell_type": "code",
   "execution_count": 21,
   "metadata": {},
   "outputs": [
    {
     "data": {
      "image/png": "[encoded data removed]",
      "text/plain": [
       "<Figure size 432x288 with 1 Axes>"
      ]
     },
     "metadata": {
      "needs_background": "light"
     },
     "output_type": "display_data"
    }
   ],
   "source": [
    "plt.figure()\n",
    "plt.hist(catalogue.SizeBytes * 1e-6, bins=100)\n",
    "plt.xlabel(\"File size (MB)\")\n",
    "plt.show()"
   ]
  },
  {
   "cell_type": "code",
   "execution_count": 22,
   "metadata": {},
   "outputs": [
    {
     "name": "stdout",
     "output_type": "stream",
     "text": [
      "0.23750367811158796 3.3358079999999997\n"
     ]
    }
   ],
   "source": [
    "print(catalogue.SizeBytes.mean() * 1e-6, catalogue.SizeBytes.max() * 1e-6)"
   ]
  },
  {
   "cell_type": "code",
   "execution_count": 25,
   "metadata": {},
   "outputs": [
    {
     "name": "stdout",
     "output_type": "stream",
     "text": [
      "Total download size: 387.368499 MB\n"
     ]
    }
   ],
   "source": [
    "print(f\"Total download size: {catalogue.SizeBytes.sum() * 1e-6} MB\")"
   ]
  },
  {
   "cell_type": "markdown",
   "metadata": {},
   "source": [
    "## Export to CSV"
   ]
  },
  {
   "cell_type": "code",
   "execution_count": 27,
   "metadata": {},
   "outputs": [],
   "source": [
    "catalogue.to_csv(\"../metadata/records.csv\", index=False)"
   ]
  }
 ],
 "metadata": {
  "kernelspec": {
   "display_name": "Python 3",
   "language": "python",
   "name": "python3"
  },
  "language_info": {
   "codemirror_mode": {
    "name": "ipython",
    "version": 3
   },
   "file_extension": ".py",
   "mimetype": "text/x-python",
   "name": "python",
   "nbconvert_exporter": "python",
   "pygments_lexer": "ipython3",
   "version": "3.8.3"
  }
 },
 "nbformat": 4,
 "nbformat_minor": 4
}
